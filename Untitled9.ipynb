{
  "nbformat": 4,
  "nbformat_minor": 0,
  "metadata": {
    "colab": {
      "provenance": []
    },
    "kernelspec": {
      "name": "python3",
      "display_name": "Python 3"
    },
    "language_info": {
      "name": "python"
    }
  },
  "cells": [
    {
      "cell_type": "markdown",
      "source": [
        "1. Explain what inheritance is in object-oriented programming and why it is used."
      ],
      "metadata": {
        "id": "2C4-cfgkWP6L"
      }
    },
    {
      "cell_type": "markdown",
      "source": [
        "Inheritance in Object-Oriented Programming (OOP):\n",
        "Inheritance is a fundamental concept in OOP that allows a new class (derived or child class) to inherit attributes and behaviors from an existing class (base or parent class). The base class serves as a blueprint, and the derived class can reuse, extend, or override the properties and methods of the base class. Inheritance promotes code reuse, modularity, and the creation of a hierarchical structure."
      ],
      "metadata": {
        "id": "F1-vfndJWTEK"
      }
    },
    {
      "cell_type": "markdown",
      "source": [
        "2. Discuss the concept of single inheritance and multiple inheritance, highlighting their\n",
        "differences and advantages."
      ],
      "metadata": {
        "id": "TFoDzrTvWXJn"
      }
    },
    {
      "cell_type": "markdown",
      "source": [
        "Single Inheritance vs. Multiple Inheritance:\n",
        "\n",
        "* Single Inheritance: A class can inherit from only one base class. It\n",
        "simplifies the design but may limit flexibility.\n",
        "* Multiple Inheritance: A class can inherit from more than one base class. This provides greater flexibility but can lead to complexities, such as the diamond problem. Some programming languages, like Java, support single inheritance, while others, like C++, allow multiple inheritance."
      ],
      "metadata": {
        "id": "ks_x_njqWctS"
      }
    },
    {
      "cell_type": "markdown",
      "source": [
        "3. Explain the terms \"base class\" and \"derived class\" in the context of inheritance."
      ],
      "metadata": {
        "id": "5xQ0HGIPW9yY"
      }
    },
    {
      "cell_type": "markdown",
      "source": [
        "Base Class and Derived Class:\n",
        "\n",
        "* Base Class: Also known as a parent or superclass, it is the class whose attributes and methods are inherited by another class.\n",
        "\n",
        "* Derived Class: Also known as a child or subclass, it is the class that inherits attributes and methods from another class."
      ],
      "metadata": {
        "id": "5jG6pcnOW_Lc"
      }
    },
    {
      "cell_type": "markdown",
      "source": [
        "4. What is the significance of the \"protected\" access modifier in inheritance? How does\n",
        "it differ from \"private\" and \"public\" modifiers?"
      ],
      "metadata": {
        "id": "ym0JMLrHXIK6"
      }
    },
    {
      "cell_type": "markdown",
      "source": [
        "Protected Access Modifier in Inheritance:\n",
        "\n",
        "* Protected: Members (attributes and methods) marked as protected are accessible within the class and its subclasses. It provides a balance between the encapsulation of private members and the accessibility of public members.\n",
        "\n",
        "* Private: Members marked as private are only accessible within the class. They are not visible to derived classes.\n",
        "\n",
        "* Public: Members marked as public are accessible from any part of the program, including outside the class. They can be accessed in derived classes as well."
      ],
      "metadata": {
        "id": "DWCKFAw2XKn7"
      }
    },
    {
      "cell_type": "markdown",
      "source": [
        "5. What is the purpose of the \"super\" keyword in inheritance? Provide an example."
      ],
      "metadata": {
        "id": "1D2lCjnkXU8V"
      }
    },
    {
      "cell_type": "markdown",
      "source": [
        "\"super\" Keyword in Inheritance:\n",
        "The \"super\" keyword is used to call methods and access attributes from the base class in the derived class. It is often used to invoke the constructor or methods of the parent class.\n",
        "\n",
        "Example:"
      ],
      "metadata": {
        "id": "qqsYjxIYXXvf"
      }
    },
    {
      "cell_type": "code",
      "source": [
        "class BaseClass:\n",
        "    def __init__(self, x):\n",
        "        self.x = x\n",
        "\n",
        "class DerivedClass(BaseClass):\n",
        "    def __init__(self, x, y):\n",
        "        super().__init__(x)\n",
        "        self.y = y\n",
        "\n",
        "obj = DerivedClass(10, 20)\n",
        "print(obj.x)  # Output: 10\n",
        "print(obj.y)  # Output: 20\n"
      ],
      "metadata": {
        "colab": {
          "base_uri": "https://localhost:8080/"
        },
        "id": "PGoJ_CaUXcGz",
        "outputId": "9f333933-c1d9-4617-8dbd-c36cf08e68ba"
      },
      "execution_count": 1,
      "outputs": [
        {
          "output_type": "stream",
          "name": "stdout",
          "text": [
            "10\n",
            "20\n"
          ]
        }
      ]
    },
    {
      "cell_type": "markdown",
      "source": [
        "6. Create a base class called \"Vehicle\" with attributes like \"make\", \"model\", and \"year\".\n",
        "Then, create a derived class called \"Car\" that inherits from \"Vehicle\" and adds an\n",
        "attribute called \"fuel_type\". Implement appropriate methods in both classes."
      ],
      "metadata": {
        "id": "GlNtkg9mXnOL"
      }
    },
    {
      "cell_type": "code",
      "source": [
        "class Vehicle:\n",
        "    def __init__(self, make, model, year):\n",
        "        self.make = make\n",
        "        self.model = model\n",
        "        self.year = year\n",
        "\n",
        "class Car(Vehicle):\n",
        "    def __init__(self, make, model, year, fuel_type):\n",
        "        super().__init__(make, model, year)\n",
        "        self.fuel_type = fuel_type\n",
        "\n",
        "    def display_info(self):\n",
        "        print(f\"{self.year} {self.make} {self.model}, Fuel Type: {self.fuel_type}\")\n",
        "\n",
        "# Example usage:\n",
        "car_instance = Car(\"Toyota\", \"Camry\", 2022, \"Gasoline\")\n",
        "car_instance.display_info()\n"
      ],
      "metadata": {
        "colab": {
          "base_uri": "https://localhost:8080/"
        },
        "id": "vrcg8IiwXsM7",
        "outputId": "f7b66952-2426-4862-af4e-0abe1b8f7cda"
      },
      "execution_count": 2,
      "outputs": [
        {
          "output_type": "stream",
          "name": "stdout",
          "text": [
            "2022 Toyota Camry, Fuel Type: Gasoline\n"
          ]
        }
      ]
    },
    {
      "cell_type": "markdown",
      "source": [
        "7. Create a base class called \"Employee\" with attributes like \"name\" and \"salary.\"\n",
        "Derive two classes, \"Manager\" and \"Developer,\" from \"Employee.\" Add an additional\n",
        "attribute called \"department\" for the \"Manager\" class and \"programming_language\"\n",
        "for the \"Developer\" class."
      ],
      "metadata": {
        "id": "B8-45liFX0JN"
      }
    },
    {
      "cell_type": "code",
      "source": [
        "class Employee:\n",
        "    def __init__(self, name, salary):\n",
        "        self.name = name\n",
        "        self.salary = salary\n",
        "\n",
        "class Manager(Employee):\n",
        "    def __init__(self, name, salary, department):\n",
        "        super().__init__(name, salary)\n",
        "        self.department = department\n",
        "\n",
        "class Developer(Employee):\n",
        "    def __init__(self, name, salary, programming_language):\n",
        "        super().__init__(name, salary)\n",
        "        self.programming_language = programming_language\n",
        "\n",
        "# Example usage:\n",
        "manager_instance = Manager(\"John\", 80000, \"Marketing\")\n",
        "developer_instance = Developer(\"Alice\", 70000, \"Python\")\n",
        "\n",
        "print(f\"Manager: {manager_instance.name}, Salary: {manager_instance.salary}, Department: {manager_instance.department}\")\n",
        "print(f\"Developer: {developer_instance.name}, Salary: {developer_instance.salary}, \"\n",
        "      f\"Programming Language: {developer_instance.programming_language}\")\n"
      ],
      "metadata": {
        "colab": {
          "base_uri": "https://localhost:8080/"
        },
        "id": "aSvVsVydZO77",
        "outputId": "3a7de675-a005-488c-a4c2-67ad209c47b6"
      },
      "execution_count": 11,
      "outputs": [
        {
          "output_type": "stream",
          "name": "stdout",
          "text": [
            "Manager: John, Salary: 80000, Department: Marketing\n",
            "Developer: Alice, Salary: 70000, Programming Language: Python\n"
          ]
        }
      ]
    },
    {
      "cell_type": "markdown",
      "source": [
        "8. Design a base class called \"Shape\" with attributes like \"colour\" and \"border_width.\"\n",
        "Create derived classes, \"Rectangle\" and \"Circle,\" that inherit from \"Shape\" and add\n",
        "specific attributes like \"length\" and \"width\" for the \"Rectangle\" class and \"radius\" for\n",
        "the \"Circle\" class."
      ],
      "metadata": {
        "id": "RRRh1BFCX_lA"
      }
    },
    {
      "cell_type": "code",
      "source": [
        "class Shape:\n",
        "    def __init__(self, colour, border_width):\n",
        "        self.colour = colour\n",
        "        self.border_width = border_width\n",
        "\n",
        "class Rectangle(Shape):\n",
        "    def __init__(self, colour, border_width, length, width):\n",
        "        super().__init__(colour, border_width)\n",
        "        self.length = length\n",
        "        self.width = width\n",
        "\n",
        "class Circle(Shape):\n",
        "    def __init__(self, colour, border_width, radius):\n",
        "        super().__init__(colour, border_width)\n",
        "        self.radius = radius\n",
        "\n",
        "# Example usage:\n",
        "rectangle_instance = Rectangle(\"Red\", 2, 10, 5)\n",
        "circle_instance = Circle(\"Blue\", 1, 8)\n",
        "\n",
        "print(f\"Rectangle: Colour - {rectangle_instance.colour}, Border Width - {rectangle_instance.border_width}, \"\n",
        "      f\"Length - {rectangle_instance.length}, Width - {rectangle_instance.width}\")\n",
        "\n",
        "print(f\"Circle: Colour - {circle_instance.colour}, Border Width - {circle_instance.border_width}, \"\n",
        "      f\"Radius - {circle_instance.radius}\")\n"
      ],
      "metadata": {
        "colab": {
          "base_uri": "https://localhost:8080/"
        },
        "id": "7wgji0ZcZFIE",
        "outputId": "eb42ae06-6c0e-4c28-a3b8-26ddbad800ed"
      },
      "execution_count": 10,
      "outputs": [
        {
          "output_type": "stream",
          "name": "stdout",
          "text": [
            "Rectangle: Colour - Red, Border Width - 2, Length - 10, Width - 5\n",
            "Circle: Colour - Blue, Border Width - 1, Radius - 8\n"
          ]
        }
      ]
    },
    {
      "cell_type": "markdown",
      "source": [
        "9. Create a base class called \"Device\" with attributes like \"brand\" and \"model.\" Derive\n",
        "two classes, \"Phone\" and \"Tablet,\" from \"Device.\" Add specific attributes like\n",
        "\"screen_size\" for the \"Phone\" class and \"battery_capacity\" for the \"Tablet\" class."
      ],
      "metadata": {
        "id": "oTEtXfI6YCxs"
      }
    },
    {
      "cell_type": "code",
      "source": [
        "class Device:\n",
        "    def __init__(self, brand, model):\n",
        "        self.brand = brand\n",
        "        self.model = model\n",
        "\n",
        "class Phone(Device):\n",
        "    def __init__(self, brand, model, screen_size):\n",
        "        super().__init__(brand, model)\n",
        "        self.screen_size = screen_size\n",
        "\n",
        "class Tablet(Device):\n",
        "    def __init__(self, brand, model, battery_capacity):\n",
        "        super().__init__(brand, model)\n",
        "        self.battery_capacity = battery_capacity\n",
        "\n",
        "# Example usage:\n",
        "phone_instance = Phone(\"Samsung\", \"Galaxy S21\", 6.2)\n",
        "tablet_instance = Tablet(\"Apple\", \"iPad Pro\", 10000)\n",
        "\n",
        "print(f\"Phone: {phone_instance.brand} {phone_instance.model}, Screen Size: {phone_instance.screen_size} inches\")\n",
        "print(f\"Tablet: {tablet_instance.brand} {tablet_instance.model}, Battery Capacity: {tablet_instance.battery_capacity} mAh\")\n"
      ],
      "metadata": {
        "colab": {
          "base_uri": "https://localhost:8080/"
        },
        "id": "Mmot3v-LY1MO",
        "outputId": "deb3b8b2-d856-42e4-f7bf-40eafb93262b"
      },
      "execution_count": 9,
      "outputs": [
        {
          "output_type": "stream",
          "name": "stdout",
          "text": [
            "Phone: Samsung Galaxy S21, Screen Size: 6.2 inches\n",
            "Tablet: Apple iPad Pro, Battery Capacity: 10000 mAh\n"
          ]
        }
      ]
    },
    {
      "cell_type": "markdown",
      "source": [
        "10. Create a base class called \"BankAccount\" with attributes like \"account_number\" and\n",
        "\"balance.\" Derive two classes, \"SavingsAccount\" and \"CheckingAccount,\" from\n",
        "\"BankAccount.\" Add specific methods like \"calculate_interest\" for the\n",
        "\"SavingsAccount\" class and \"deduct_fees\" for the \"CheckingAccount\" class."
      ],
      "metadata": {
        "id": "UjwjUJwbYU90"
      }
    },
    {
      "cell_type": "code",
      "source": [
        "class BankAccount:\n",
        "    def __init__(self, account_number, balance):\n",
        "        self.account_number = account_number\n",
        "        self.balance = balance\n",
        "\n",
        "class SavingsAccount(BankAccount):\n",
        "    def __init__(self, account_number, balance):\n",
        "        super().__init__(account_number, balance)\n",
        "\n",
        "    def calculate_interest(self, interest_rate):\n",
        "        interest = self.balance * (interest_rate / 100)\n",
        "        self.balance += interest\n",
        "        print(f\"Interest calculated. New balance: {self.balance}\")\n",
        "\n",
        "class CheckingAccount(BankAccount):\n",
        "    def __init__(self, account_number, balance):\n",
        "        super().__init__(account_number, balance)\n",
        "\n",
        "    def deduct_fees(self, fee):\n",
        "        if self.balance >= fee:\n",
        "            self.balance -= fee\n",
        "            print(f\"Fees deducted. New balance: {self.balance}\")\n",
        "        else:\n",
        "            print(\"Insufficient funds to deduct fees.\")\n",
        "\n",
        "# Example usage:\n",
        "savings_account = SavingsAccount(\"123456\", 5000)\n",
        "savings_account.calculate_interest(2)\n",
        "\n",
        "checking_account = CheckingAccount(\"654321\", 7000)\n",
        "checking_account.deduct_fees(10)\n"
      ],
      "metadata": {
        "colab": {
          "base_uri": "https://localhost:8080/"
        },
        "id": "wxpiy8HuYqUY",
        "outputId": "341c2468-7aa5-4b6c-e5f3-5c759d425b0c"
      },
      "execution_count": 8,
      "outputs": [
        {
          "output_type": "stream",
          "name": "stdout",
          "text": [
            "Interest calculated. New balance: 5100.0\n",
            "Fees deducted. New balance: 6990\n"
          ]
        }
      ]
    }
  ]
}